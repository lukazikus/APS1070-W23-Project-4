{
  "nbformat": 4,
  "nbformat_minor": 0,
  "metadata": {
    "colab": {
      "provenance": []
    },
    "kernelspec": {
      "display_name": "Python 3",
      "language": "python",
      "name": "python3"
    },
    "language_info": {
      "codemirror_mode": {
        "name": "ipython",
        "version": 3
      },
      "file_extension": ".py",
      "mimetype": "text/x-python",
      "name": "python",
      "nbconvert_exporter": "python",
      "pygments_lexer": "ipython3",
      "version": "3.7.4"
    }
  },
  "cells": [
    {
      "cell_type": "markdown",
      "metadata": {
        "id": "OTpnyUEJrAjE"
      },
      "source": [
        "# Project 4, Git Practice, APS1070 Winter 2023\n",
        "#### **Linear Regression -  15 points**\n",
        "**Deadline: March 31st, 23:00**\n",
        "\n",
        "**Academic Integrity**\n",
        "\n",
        "This project is individual - it is to be completed on your own. If you have questions, please post your query in the APS1070 Piazza Q&A forums (the answer might be useful to others!).\n",
        "\n",
        "Do not share your code with others, or post your work online. Do not submit code that you have not written yourself. Students suspected of plagiarism on a project, midterm or exam will be referred to the department for formal discipline for breaches of the Student Code of Conduct."
      ]
    },
    {
      "cell_type": "markdown",
      "metadata": {
        "id": "fUdJ6xw3rJIG"
      },
      "source": [
        "Please fill out the following:\n",
        "\n",
        "\n",
        "*   Your **name**: \n",
        "*   Your **student number**: \n",
        "\n"
      ]
    },
    {
      "cell_type": "markdown",
      "metadata": {
        "id": "sy0M4UZZNEk2"
      },
      "source": [
        "## Gradient Descent with Additional Features and Regularization [2 marks + 1 mark Git submission]\n",
        "\n",
        "We'll apply linear regresssion to a toy dataset (`LR_data.csv`), with 10 features `x1`-`x10` and a \"measurement\" `y`. We'll take a few shortcuts by using built-in sklearn functions.\n",
        "\n",
        "1. Data Preparation **[0.5]**\n",
        "  * Print the dataset, and create Numpy arrays with inputs (X) and outputs (y). \n",
        "  * Split the dataset into training and validation sets (80% training, 20% validation). When splitting, set `random_state=1`.\n",
        "\n",
        "2. Linear Regression **[0.5]**\n",
        "  * Standardize the data using StandardScaler from sklearn.\n",
        "  * Use the `sklearn.linear_model.LinearRegression` function [here](https://scikit-learn.org/stable/modules/generated/sklearn.linear_model.LinearRegression.html) to perform linear regression.\n",
        "  * Print the RMSE for training and validation data.\n",
        "\n",
        "3. Linear Regression with Additional Features **[0.5]**\n",
        "  * Let's add more features to our dataset (degree 8) using `sklearn.preprocessing.PolynomialFeatures` [here](https://scikit-learn.org/stable/modules/generated/sklearn.preprocessing.PolynomialFeatures.html). You'll want to create the additional features first, then perform standardization (start from non-standardized data).\n",
        "  * Again, use `sklearn.linear_model.LinearRegression` to perform linear regression.\n",
        "  * Print the RMSE for training and validation data.\n",
        "\n",
        "4. Linear Regression with Additional Features and Regularization **[0.5]**\n",
        "  * Let's switch models, and instead use the `sklearn.linear_model.Ridge` function [here](https://scikit-learn.org/stable/modules/generated/sklearn.linear_model.Ridge.html#sklearn.linear_model.Ridge) to perform linear regression with regularization. Apply the model to the processed data (additional, standardized) you used in 3 above. Use a `FOR` loop to run `sklearn.linear_model.Ridge` with different `alpha` values. Specifically, sweep `alpha` from 1E-2 to 1E10 (each step is an order of magnitude jump)."
      ]
    },
    {
      "cell_type": "code",
      "metadata": {
        "id": "6ZKR243TOERR"
      },
      "source": [
        "import pandas as pd\n",
        "df=pd.read_csv(\"https://raw.githubusercontent.com/APS1070-W23/datasets/main/LR_data.csv\" , skipinitialspace=True)"
      ],
      "execution_count": 2,
      "outputs": []
    }
  ]
}